{
  "nbformat": 4,
  "nbformat_minor": 0,
  "metadata": {
    "colab": {
      "name": "BoniLabMDR.ipynb",
      "provenance": [],
      "collapsed_sections": [
        "5Xrn9bowEsE4"
      ],
      "toc_visible": true,
      "authorship_tag": "ABX9TyOtOow8/zUQrjxcNO7G/o3O"
    },
    "kernelspec": {
      "name": "python3",
      "display_name": "Python 3"
    }
  },
  "cells": [
    {
      "cell_type": "markdown",
      "metadata": {
        "id": "Br_IOS80gXWy",
        "colab_type": "text"
      },
      "source": [
        "# MDR Categorization & Case-Count Report Program\n",
        "This program takes in a txt (csv-formatted) file generated from Boni Lab's Individual Based Microsimulation, and outputs a plot showing how many people are infected by Multiple-Drug-Resistant (MDR) Parasites, with their resistance strength, at each month."
      ]
    },
    {
      "cell_type": "markdown",
      "metadata": {
        "id": "uPsrGouWh6Vs",
        "colab_type": "text"
      },
      "source": [
        "## Function defs"
      ]
    },
    {
      "cell_type": "markdown",
      "metadata": {
        "id": "tvkLW64qhS0S",
        "colab_type": "text"
      },
      "source": [
        "### Parser Function - `parse`\n",
        "This is the parser function that helps adding headings to the txt file, and then convert the columns in interest to dataframe.\n",
        "\n",
        "The function also checks if the simulation was generated for single location ONLY. Currently the program does not support multiple location scenarios.\n",
        "\n",
        "Input: `file_name` - path to the txt file to be parsed; `interested_col` - a list of number guiding which columns to tailor for returned dataframe.\n",
        "\n",
        "Output: `df` - validated and tailored dataframe object (pandas required)."
      ]
    },
    {
      "cell_type": "code",
      "metadata": {
        "id": "QzKXlXfIhOGM",
        "colab_type": "code",
        "colab": {}
      },
      "source": [
        "import pandas as pd\n",
        "# Source: https://thispointer.com/python-how-to-insert-lines-at-the-top-of-a-file/\n",
        "'''\n",
        "Default columns that are selected are:\n",
        " #0 - Current Time\n",
        " #2 - Year\n",
        " #8 - Population\n",
        " #12 - Blood Slide Prevalence\n",
        " #22-149 - Parasite Count by Genotypes\n",
        "'''\n",
        "\n",
        "def parse(file_name, interested_col = [0,2,8,12] + list(range(22,150))):\n",
        "  headline = \"current_time\\tsclock_to_time\\tyear\\tmonth\\tday\\tseasonal_fac\\ttreated_p_5-\\ttreated_p_5+\\tpopulation\\tsep\\tEIR_loc_yr\\tsep\\tblood_slide_prev\\tbsp_2_10\\tbsp_0_5\\tsep\\tmonthly_new_inf\\tsep\\tmon_treatment\\tsep\\tmon_clinical_ep\\tsep\\tKNY--C1x\\tKNY--C1X\\tKNY--C2x\\tKNY--C2X\\tKNY--Y1x\\tKNY--Y1X\\tKNY--Y2x\\tKNY--Y2X\\tKYY--C1x\\tKYY--C1X\\tKYY--C2x\\tKYY--C2X\\tKYY--Y1x\\tKYY--Y1X\\tKYY--Y2x\\tKYY--Y2X\\tKNF--C1x\\tKNF--C1X\\tKNF--C2x\\tKNF--C2X\\tKNF--Y1x\\tKNF--Y1X\\tKNF--Y2x\\tKNF--Y2X\\tKYF--C1x\\tKYF--C1X\\tKYF--C2x\\tKYF--C2X\\tKYF--Y1x\\tKYF--Y1X\\tKYF--Y2x\\tKYF--Y2X\\tKNYNYC1x\\tKNYNYC1X\\tKNYNYC2x\\tKNYNYC2X\\tKNYNYY1x\\tKNYNYY1X\\tKNYNYY2x\\tKNYNYY2X\\tKYYYYC1x\\tKYYYYC1X\\tKYYYYC2x\\tKYYYYC2X\\tKYYYYY1x\\tKYYYYY1X\\tKYYYYY2x\\tKYYYYY2X\\tKNFNFC1x\\tKNFNFC1X\\tKNFNFC2x\\tKNFNFC2X\\tKNFNFY1x\\tKNFNFY1X\\tKNFNFY2x\\tKNFNFY2X\\tKYFYFC1x\\tKYFYFC1X\\tKYFYFC2x\\tKYFYFC2X\\tKYFYFY1x\\tKYFYFY1X\\tKYFYFY2x\\tKYFYFY2X\\tTNY--C1x\\tTNY--C1X\\tTNY--C2x\\tTNY--C2X\\tTNY--Y1x\\tTNY--Y1X\\tTNY--Y2x\\tTNY--Y2X\\tTYY--C1x\\tTYY--C1X\\tTYY--C2x\\tTYY--C2X\\tTYY--Y1x\\tTYY--Y1X\\tTYY--Y2x\\tTYY--Y2X\\tTNF--C1x\\tTNF--C1X\\tTNF--C2x\\tTNF--C2X\\tTNF--Y1x\\tTNF--Y1X\\tTNF--Y2x\\tTNF--Y2X\\tTYF--C1x\\tTYF--C1X\\tTYF--C2x\\tTYF--C2X\\tTYF--Y1x\\tTYF--Y1X\\tTYF--Y2x\\tTYF--Y2X\\tTNYNYC1x\\tTNYNYC1X\\tTNYNYC2x\\tTNYNYC2X\\tTNYNYY1x\\tTNYNYY1X\\tTNYNYY2x\\tTNYNYY2X\\tTYYYYC1x\\tTYYYYC1X\\tTYYYYC2x\\tTYYYYC2X\\tTYYYYY1x\\tTYYYYY1X\\tTYYYYY2x\\tTYYYYY2X\\tTNFNFC1x\\tTNFNFC1X\\tTNFNFC2x\\tTNFNFC2X\\tTNFNFY1x\\tTNFNFY1X\\tTNFNFY2x\\tTNFNFY2X\\tTYFYFC1x\\tTYFYFC1X\\tTYFYFC2x\\tTYFYFC2X\\tTYFYFY1x\\tTYFYFY1X\\tTYFYFY2x\\tTYFYFY2X\\tsep\\tKNY--C1x\\tKNY--C1X\\tKNY--C2x\\tKNY--C2X\\tKNY--Y1x\\tKNY--Y1X\\tKNY--Y2x\\tKNY--Y2X\\tKYY--C1x\\tKYY--C1X\\tKYY--C2x\\tKYY--C2X\\tKYY--Y1x\\tKYY--Y1X\\tKYY--Y2x\\tKYY--Y2X\\tKNF--C1x\\tKNF--C1X\\tKNF--C2x\\tKNF--C2X\\tKNF--Y1x\\tKNF--Y1X\\tKNF--Y2x\\tKNF--Y2X\\tKYF--C1x\\tKYF--C1X\\tKYF--C2x\\tKYF--C2X\\tKYF--Y1x\\tKYF--Y1X\\tKYF--Y2x\\tKYF--Y2X\\tKNYNYC1x\\tKNYNYC1X\\tKNYNYC2x\\tKNYNYC2X\\tKNYNYY1x\\tKNYNYY1X\\tKNYNYY2x\\tKNYNYY2X\\tKYYYYC1x\\tKYYYYC1X\\tKYYYYC2x\\tKYYYYC2X\\tKYYYYY1x\\tKYYYYY1X\\tKYYYYY2x\\tKYYYYY2X\\tKNFNFC1x\\tKNFNFC1X\\tKNFNFC2x\\tKNFNFC2X\\tKNFNFY1x\\tKNFNFY1X\\tKNFNFY2x\\tKNFNFY2X\\tKYFYFC1x\\tKYFYFC1X\\tKYFYFC2x\\tKYFYFC2X\\tKYFYFY1x\\tKYFYFY1X\\tKYFYFY2x\\tKYFYFY2X\\tTNY--C1x\\tTNY--C1X\\tTNY--C2x\\tTNY--C2X\\tTNY--Y1x\\tTNY--Y1X\\tTNY--Y2x\\tTNY--Y2X\\tTYY--C1x\\tTYY--C1X\\tTYY--C2x\\tTYY--C2X\\tTYY--Y1x\\tTYY--Y1X\\tTYY--Y2x\\tTYY--Y2X\\tTNF--C1x\\tTNF--C1X\\tTNF--C2x\\tTNF--C2X\\tTNF--Y1x\\tTNF--Y1X\\tTNF--Y2x\\tTNF--Y2X\\tTYF--C1x\\tTYF--C1X\\tTYF--C2x\\tTYF--C2X\\tTYF--Y1x\\tTYF--Y1X\\tTYF--Y2x\\tTYF--Y2X\\tTNYNYC1x\\tTNYNYC1X\\tTNYNYC2x\\tTNYNYC2X\\tTNYNYY1x\\tTNYNYY1X\\tTNYNYY2x\\tTNYNYY2X\\tTYYYYC1x\\tTYYYYC1X\\tTYYYYC2x\\tTYYYYC2X\\tTYYYYY1x\\tTYYYYY1X\\tTYYYYY2x\\tTYYYYY2X\\tTNFNFC1x\\tTNFNFC1X\\tTNFNFC2x\\tTNFNFC2X\\tTNFNFY1x\\tTNFNFY1X\\tTNFNFY2x\\tTNFNFY2X\\tTYFYFC1x\\tTYFYFC1X\\tTYFYFC2x\\tTYFYFC2X\\tTYFYFY1x\\tTYFYFY1X\\tTYFYFY2x\\tTYFYFY2X\\tsep\\t\\t\"\n",
        "  \n",
        "  # Start - Cited Codes\n",
        "  # define name of temporary dummy file\n",
        "  dummy_file = file_name + '_parsed.txt'\n",
        "  # open original file in read mode and dummy file in write mode\n",
        "  with open(file_name, 'r') as read_obj, open(dummy_file, 'w') as write_obj:\n",
        "    # Write given line to the dummy file\n",
        "    write_obj.write(headline + '\\n')\n",
        "    # Read lines from original file one by one and append them to the dummy file\n",
        "    for line in read_obj:\n",
        "      write_obj.write(line)\n",
        "  # End - Cited Codes\n",
        "\n",
        "  df = pd.read_csv(dummy_file, sep='\\t')\n",
        "\n",
        "  # Check if file is single-location'd\n",
        "  if len(df.columns) == 282:\n",
        "    # Return tailored df\n",
        "    df = df.iloc[:,interested_col]\n",
        "    return df\n",
        "  \n",
        "  # Error if file not single-location'd\n",
        "  return None"
      ],
      "execution_count": 0,
      "outputs": []
    },
    {
      "cell_type": "markdown",
      "metadata": {
        "id": "1qW0f2PcvNWk",
        "colab_type": "text"
      },
      "source": [
        "### Drug Resistant Strength Calculation Function - `resistant_strength_calc`\n",
        "Input: `pattern` takes in malaria geno-type encoding. e.g. 'KNF--C1x'; \n",
        "`drugset` takes in a list of drug abbreviations (e.g. 'A', 'PPQ', etc.) that are interested for the scenario; `option` takes in a number `1` or `2`.\n",
        "\n",
        "Output: This function evaluates the Malaria encoding pattern and counts how many drugs (in the set) is this genotype resistant to. The function also counts the number of genetic (mutation) events happened regarding this genotype. For option 1, the function returns `drugnum` indicating how many drugs in the set is this pattern resistant to, and `eventcount` indicating how many mutation events happened to this genotype; for option 2, `drugnum` is the same while `allelecount` breaks down the mutation events to each allel, e.g. '11000000' indicates mutations at *K76T* and *N86Y* when using Amodiaquine (AQ)."
      ]
    },
    {
      "cell_type": "code",
      "metadata": {
        "id": "P4zKHrrkvNDD",
        "colab_type": "code",
        "colab": {}
      },
      "source": [
        "def resistant_strength_calc(pattern, drugset, option=1):\n",
        "\n",
        "  # TODO - Support more drug set combinations\n",
        "  if len(drugset) != 2:\n",
        "    return \"only support two drugs!\"\n",
        "\n",
        "  # Do not support LM and AQ together.\n",
        "  if 'LM' in drugset and 'AQ' in drugset:\n",
        "    return \"not supporting LM & AQ together yet\"\n",
        "        \n",
        "  drugnum = 0\n",
        "  allelecount = '00000000'\n",
        "    \n",
        "  if 'A' in drugset and pattern[5:6] == 'Y': # Artemisinin Resistant\n",
        "    drugnum += 1\n",
        "    allelecount = allelecount[0:5] + '1' + allelecount[6:]\n",
        "        \n",
        "  if 'PPQ' in drugset and pattern[6:7] == '2': # PPQ Resistant\n",
        "    drugnum += 1\n",
        "    allelecount = allelecount[0:6] + '1' + allelecount[7:]\n",
        "        \n",
        "  if 'LM' in drugset and pattern[0:3] != 'TYY': # LM Resistant\n",
        "    drugnum += 1\n",
        "    if pattern[0:1] == 'K': # K76T\n",
        "      allelecount = '1' + allelecount[1:]\n",
        "    if pattern[1:2] == 'N': # N86Y\n",
        "      allelecount = allelecount[0:1] + '1' + allelecount[2:]\n",
        "    if pattern[2:3] == 'F': # Y184F\n",
        "      allelecount = allelecount[0:2] + '1' + allelecount[3:]\n",
        "            \n",
        "  if 'AQ' in drugset and pattern[0:3] != 'KNF': # AQ Resistant\n",
        "    drugnum += 1\n",
        "    if pattern[0:1] == 'T': # K76T\n",
        "      allelecount = '1' + allelecount[1:]\n",
        "    if pattern[1:2] == 'Y': # N86Y\n",
        "      allelecount = allelecount[0:1] + '1' + allelecount[2:]\n",
        "    if pattern[2:3] == 'Y': # Y184F\n",
        "      allelecount = allelecount[0:2] + '1' + allelecount[3:]\n",
        "            \n",
        "  if 'MQ' in drugset: # MQ\n",
        "    if not (pattern[1:2] == 'Y' and pattern[4:5] == '--'): # If Resistance exists\n",
        "      drugnum += 1\n",
        "      if pattern[1:2] == 'N': # N86Y\n",
        "        allelecount = allelecount[0:1] + '1' + allelecount[2:]\n",
        "      if pattern[3:5] != '--': # Double Copy N86Y & Y184F\n",
        "        allelecount = allelecount[0:3] + '1-' + allelecount[5:]\n",
        "            \n",
        "  if option == 1:\n",
        "    eventcount = allelecount.count('1')\n",
        "    return (\"%s-%s\" % (drugnum, eventcount))\n",
        "  return (\"%s-%s\" % (drugnum, allelecount))"
      ],
      "execution_count": 0,
      "outputs": []
    },
    {
      "cell_type": "markdown",
      "metadata": {
        "id": "5gQ7DT9G-0yh",
        "colab_type": "text"
      },
      "source": [
        "### Dataframe Column Name Replace Function - `df_col_replace`\n",
        "Input: `df` - dataframe object to be replaced; `drugset` - a set of drugs deployed for the simulation and thus we are interested in analyzing.\n",
        "\n",
        "Output: `df` - parsed dataframe object where genotype encodings have been replaced by their correponding drug-resistance-strength, in column names. The parsed dataframe also groups the columns with the same drug-resistance-strength."
      ]
    },
    {
      "cell_type": "code",
      "metadata": {
        "id": "MkiGSMip-124",
        "colab_type": "code",
        "colab": {}
      },
      "source": [
        "def df_col_replace(df, drugset):\n",
        "  encodingdb = ['KNY--C1x', 'KNY--C1X', 'KNY--C2x', 'KNY--C2X', 'KNY--Y1x', 'KNY--Y1X', 'KNY--Y2x', 'KNY--Y2X', 'KYY--C1x', 'KYY--C1X', 'KYY--C2x', 'KYY--C2X', 'KYY--Y1x', 'KYY--Y1X', 'KYY--Y2x', 'KYY--Y2X', 'KNF--C1x', 'KNF--C1X', 'KNF--C2x', 'KNF--C2X', 'KNF--Y1x', 'KNF--Y1X', 'KNF--Y2x', 'KNF--Y2X', 'KYF--C1x', 'KYF--C1X', 'KYF--C2x', 'KYF--C2X', 'KYF--Y1x', 'KYF--Y1X', 'KYF--Y2x', 'KYF--Y2X', 'KNYNYC1x', 'KNYNYC1X', 'KNYNYC2x', 'KNYNYC2X', 'KNYNYY1x', 'KNYNYY1X', 'KNYNYY2x', 'KNYNYY2X', 'KYYYYC1x', 'KYYYYC1X', 'KYYYYC2x', 'KYYYYC2X', 'KYYYYY1x', 'KYYYYY1X', 'KYYYYY2x', 'KYYYYY2X', 'KNFNFC1x', 'KNFNFC1X', 'KNFNFC2x', 'KNFNFC2X', 'KNFNFY1x', 'KNFNFY1X', 'KNFNFY2x', 'KNFNFY2X', 'KYFYFC1x', 'KYFYFC1X', 'KYFYFC2x', 'KYFYFC2X', 'KYFYFY1x', 'KYFYFY1X', 'KYFYFY2x', 'KYFYFY2X', 'TNY--C1x', 'TNY--C1X', 'TNY--C2x', 'TNY--C2X', 'TNY--Y1x', 'TNY--Y1X', 'TNY--Y2x', 'TNY--Y2X', 'TYY--C1x', 'TYY--C1X', 'TYY--C2x', 'TYY--C2X', 'TYY--Y1x', 'TYY--Y1X', 'TYY--Y2x', 'TYY--Y2X', 'TNF--C1x', 'TNF--C1X', 'TNF--C2x', 'TNF--C2X', 'TNF--Y1x', 'TNF--Y1X', 'TNF--Y2x', 'TNF--Y2X', 'TYF--C1x', 'TYF--C1X', 'TYF--C2x', 'TYF--C2X', 'TYF--Y1x', 'TYF--Y1X', 'TYF--Y2x', 'TYF--Y2X', 'TNYNYC1x', 'TNYNYC1X', 'TNYNYC2x', 'TNYNYC2X', 'TNYNYY1x', 'TNYNYY1X', 'TNYNYY2x', 'TNYNYY2X', 'TYYYYC1x', 'TYYYYC1X', 'TYYYYC2x', 'TYYYYC2X', 'TYYYYY1x', 'TYYYYY1X', 'TYYYYY2x', 'TYYYYY2X', 'TNFNFC1x', 'TNFNFC1X', 'TNFNFC2x', 'TNFNFC2X', 'TNFNFY1x', 'TNFNFY1X', 'TNFNFY2x', 'TNFNFY2X', 'TYFYFC1x', 'TYFYFC1X', 'TYFYFC2x', 'TYFYFC2X', 'TYFYFY1x', 'TYFYFY1X', 'TYFYFY2x', 'TYFYFY2X']\n",
        "  replacedict = {}\n",
        "  for genotype in encodingdb:\n",
        "    replacedict[genotype] = resistant_strength_calc(genotype, drugset)\n",
        "\n",
        "  # Replace Column names with their corresponding MDR Strength   \n",
        "  df.rename(columns=replacedict,inplace=True)\n",
        "\n",
        "  # Sum-up the columns sharing the same name and return\n",
        "  return df.groupby(by=df.columns, axis=1).sum()"
      ],
      "execution_count": 0,
      "outputs": []
    },
    {
      "cell_type": "markdown",
      "metadata": {
        "id": "vE5zn3h6LVGM",
        "colab_type": "text"
      },
      "source": [
        "### Blood Slide Prevalence Plot Function - `bsp_plot`\n",
        "This function takes in the parsed dataframe `df`, and returns the plot of Blood Slide Prevalence (population count) against time (years)."
      ]
    },
    {
      "cell_type": "code",
      "metadata": {
        "id": "6IORC1qrLVlG",
        "colab_type": "code",
        "colab": {}
      },
      "source": [
        "import pandas as pd\n",
        "import matplotlib.pyplot as plt\n",
        "import matplotlib.ticker as ticker\n",
        "\n",
        "def bsp_plot(df, xlocator=5*365):\n",
        "  plt.rcParams['figure.figsize'] = [12, 6]\n",
        "  fig, ax1 = plt.subplots()\n",
        "\n",
        "  scale_x = 365\n",
        "  ticks_x = ticker.FuncFormatter(lambda x, pos: '{0:g}'.format(x/scale_x))\n",
        "\n",
        "  ax1.plot(df['current_time'], df['blood_slide_prev'])\n",
        "  ax1.xaxis.set_major_locator(ticker.MultipleLocator(xlocator))\n",
        "  ax1.xaxis.set_major_formatter(ticks_x)\n",
        "  ax1.set_xlabel('Years')\n",
        "  ax1.set_ylabel('Percentage of Population')\n",
        "  ax1.set_title('Blood Slide Prevalence Plot')\n",
        "\n",
        "  plt.grid()\n",
        "  return ax1"
      ],
      "execution_count": 0,
      "outputs": []
    },
    {
      "cell_type": "markdown",
      "metadata": {
        "id": "4D0-q5kiI8cn",
        "colab_type": "text"
      },
      "source": [
        "### MDR Parasite Population Plot - `mdr_ppc_plot`\n",
        "This function takes in the processed dataframe, that is being column-name-reaplced and same-column-combined, and plots the parasite population count against time, including all MDR cases represented by different colors, with a legend."
      ]
    },
    {
      "cell_type": "code",
      "metadata": {
        "id": "SdyuKQF5I8pF",
        "colab_type": "code",
        "colab": {}
      },
      "source": [
        "import pandas as pd\n",
        "import matplotlib.pyplot as plt\n",
        "import matplotlib.ticker as ticker\n",
        "\n",
        "def mdr_ppc_plot(df, xlocator=5*365, xlabel='Years', ylabel='Parasite Frequency', title='Parasite Frequency Plot by MDR Case'):\n",
        "  plt.rcParams['figure.figsize'] = [12, 6]\n",
        "  col_names = list(df.columns)\n",
        "  mdr_cases = col_names[:-4] # Last four columns are not about MDR\n",
        "  legend_color = {\n",
        "    \"0-0\": \"#CCE5FF\", # blue for wild type\n",
        "    \"1-1\": \"#FAD996\", # light orange\n",
        "    \"1-2\": \"#FFAB00\", # medium orange\n",
        "    \"1-3\": \"#C76400\", # dark orange\n",
        "    \"2-1\": \"#F09187\", # light red\n",
        "    \"2-2\": \"#FF1A00\", # medium red\n",
        "    \"2-3\": \"#A91606\", # dark red\n",
        "    \"2-4\": \"k\"\n",
        "  }\n",
        "\n",
        "  fig, ax1 = plt.subplots()\n",
        "\n",
        "  scale_x = 365\n",
        "  ticks_x = ticker.FuncFormatter(lambda x, pos: '{0:g}'.format(x/scale_x))\n",
        "\n",
        "  # Plot each MDR case with different color\n",
        "  for mdr_case in mdr_cases:\n",
        "    plt.plot(df['current_time'], df[mdr_case], label=mdr_case, color=legend_color.get(mdr_case))\n",
        "\n",
        "  ax1.xaxis.set_major_locator(ticker.MultipleLocator(xlocator))\n",
        "  ax1.xaxis.set_major_formatter(ticks_x)\n",
        "  ax1.set_xlabel(xlabel)\n",
        "  ax1.set_ylabel(ylabel)\n",
        "  ax1.set_title(title)\n",
        "\n",
        "  plt.legend()\n",
        "  plt.grid()\n",
        "  return ax1"
      ],
      "execution_count": 0,
      "outputs": []
    },
    {
      "cell_type": "markdown",
      "metadata": {
        "id": "5Xrn9bowEsE4",
        "colab_type": "text"
      },
      "source": [
        "### ARCHIVED - MDR Pattern Generating Function\n",
        "This was the old function developed to generate all possible combinations given a set of drugs. This function was later replaced by the MDR Allel Event Counting function."
      ]
    },
    {
      "cell_type": "markdown",
      "metadata": {
        "id": "neLtJfBQGaSF",
        "colab_type": "text"
      },
      "source": [
        "```\n",
        "def MDR_pattern_generate(drugset):\n",
        "    if len(drugset) != 2:\n",
        "        return \"only support two drugs!\"\n",
        "    if 'LM' in drugset and 'AQ' in drugset:\n",
        "        return \"not supporting LM & AQ together yet\"\n",
        "    result = {}\n",
        "    complete_wild_pattern = '........'\n",
        "    n = 1\n",
        "    \n",
        "    if 'A' in drugset: # Generate Pattern for Artemisinin\n",
        "        complete_wild_pattern = complete_wild_pattern[0:5] + 'C' + complete_wild_pattern[6:]\n",
        "        key = 'Res-Only-to-#%s' % n\n",
        "        result.update({key:'.....Y..'})\n",
        "        result.update({'double':'.....Y..'}) # to be updated later when second drug is seen\n",
        "        n += 1 # notify other drug that A has been seen\n",
        "    \n",
        "    if 'PPQ' in drugset:\n",
        "        complete_wild_pattern = complete_wild_pattern[0:6] + '1' + complete_wild_pattern[7:]\n",
        "        \n",
        "        if n == 1: # if PPQ is the first in the set\n",
        "            result.update({'Res-Only-to-#1':'......2.'})\n",
        "            result.update({'double':'......2.'}) # to be updated later when second drug is seen\n",
        "        \n",
        "        else: # if some other drug has been seen before\n",
        "            \n",
        "            ## when the complete wild pattern is updated\n",
        "            ## all just-n values need to be updated too\n",
        "            prev_key = 'Res-Only-to-#%s' % (n-1)\n",
        "            prev_res = result[prev_key]\n",
        "            # make it sensitive to PPQ but resistant to prev drug\n",
        "            prev_res = prev_res[0:6] + '1' + prev_res[7:]\n",
        "            result[prev_key] = prev_res # update pattern for previous drug\n",
        "            \n",
        "            ppqkey = 'Res-Only-to-#%s' % n\n",
        "            # Res to PPQ and sensitive to all other drugs\n",
        "            ppqvalue = complete_wild_pattern = complete_wild_pattern[0:6] + '2' + complete_wild_pattern[7:]\n",
        "            result.update({ppqkey:ppqvalue}) # insert pattern for Just PPQ\n",
        "            \n",
        "            # update pattern for double resistant\n",
        "            double_res = result['double']\n",
        "            double_res = double_res[0:6] + '2' + double_res[7:]\n",
        "            result['double'] = double_res\n",
        "    \n",
        "    if 'LM' in drugset:\n",
        "        complete_wild_pattern = 'TYY' + complete_wild_pattern[3:]\n",
        "        if n == 1: # if LM is the first in the set\n",
        "            result.update({'Res-Only-to-#1-Stren1':'......2.'})\n",
        "            result.update({'double':'......2.'}) # to be updated later when second drug is seen\n",
        "    \n",
        "    return result\n",
        "```"
      ]
    },
    {
      "cell_type": "markdown",
      "metadata": {
        "id": "FnxW3tvS5zRn",
        "colab_type": "text"
      },
      "source": [
        "## Main Function - Start Here"
      ]
    },
    {
      "cell_type": "code",
      "metadata": {
        "id": "Ll4fXs6e54Fr",
        "colab_type": "code",
        "colab": {}
      },
      "source": [
        "# Need to define your own variables here\n",
        "#filepath = \"youdefinehere\"\n",
        "filepath = \"5.txt\"\n",
        "drugset = ['A','PPQ']\n",
        "\n",
        "# Parse the output file and check if single-location'd\n",
        "df = parse(filepath)\n",
        "if (df is None):\n",
        "  print(\"Parsed Error. Not a single-location'd file\")"
      ],
      "execution_count": 0,
      "outputs": []
    },
    {
      "cell_type": "code",
      "metadata": {
        "id": "Hn_1iD7HTbTj",
        "colab_type": "code",
        "outputId": "132fa508-8601-401e-9313-0e98fdfe9e8e",
        "colab": {
          "base_uri": "https://localhost:8080/",
          "height": 421
        }
      },
      "source": [
        "# Plot blood slide prevalence\n",
        "bsp_plot(df)"
      ],
      "execution_count": 7,
      "outputs": [
        {
          "output_type": "execute_result",
          "data": {
            "text/plain": [
              "<matplotlib.axes._subplots.AxesSubplot at 0x7f3fd46d7128>"
            ]
          },
          "metadata": {
            "tags": []
          },
          "execution_count": 7
        },
        {
          "output_type": "display_data",
          "data": {
            "image/png": "[encoded data removed]",
            "text/plain": [
              "<Figure size 864x432 with 1 Axes>"
            ]
          },
          "metadata": {
            "tags": []
          }
        }
      ]
    },
    {
      "cell_type": "code",
      "metadata": {
        "id": "jvCJMrwDSqr8",
        "colab_type": "code",
        "outputId": "15f223b4-fb7c-4f9e-9c53-3e14c044e1f8",
        "colab": {
          "base_uri": "https://localhost:8080/",
          "height": 421
        }
      },
      "source": [
        "# Analyze MDR cases and further process the dataframe\n",
        "mdr_parsed_df = df_col_replace(df, drugset)\n",
        "# And plot parasite count by case plot\n",
        "mdr_ppc_plot(mdr_parsed_df)"
      ],
      "execution_count": 8,
      "outputs": [
        {
          "output_type": "execute_result",
          "data": {
            "text/plain": [
              "<matplotlib.axes._subplots.AxesSubplot at 0x7f3fd398ff98>"
            ]
          },
          "metadata": {
            "tags": []
          },
          "execution_count": 8
        },
        {
          "output_type": "display_data",
          "data": {
            "image/png": "[encoded data removed]",
            "text/plain": [
              "<Figure size 864x432 with 1 Axes>"
            ]
          },
          "metadata": {
            "tags": []
          }
        }
      ]
    }
  ]
}