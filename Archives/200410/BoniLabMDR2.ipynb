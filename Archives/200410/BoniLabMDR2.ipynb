{
 "cells": [
  {
   "cell_type": "markdown",
   "metadata": {
    "colab_type": "text",
    "id": "Br_IOS80gXWy"
   },
   "source": [
    "# MDR Categorization & Case-Count Report Program\n",
    "This program takes in a txt (csv-formatted) file generated from Boni Lab's Individual Based Microsimulation, and outputs a plot showing how many people are infected by Multiple-Drug-Resistant (MDR) Parasites, with their resistance strength, at each month."
   ]
  },
  {
   "cell_type": "markdown",
   "metadata": {
    "colab_type": "text",
    "id": "uPsrGouWh6Vs"
   },
   "source": [
    "## Function defs"
   ]
  },
  {
   "cell_type": "markdown",
   "metadata": {
    "colab_type": "text",
    "id": "tvkLW64qhS0S"
   },
   "source": [
    "### Parser Function - `parse`"
   ]
  },
  {
   "cell_type": "markdown",
   "metadata": {
    "colab_type": "text",
    "id": "hzhukihnOs7L"
   },
   "source": [
    "This is the parser function that helps adding headings to the txt file, and then convert the columns in interest to dataframe.\n",
    "\n",
    "The function also checks if the simulation was generated for single location ONLY. Currently the program does not support multiple location scenarios.\n",
    "\n",
    "Input: `file_name` - path to the txt file to be parsed; `interested_col` - a list of number guiding which columns to tailor for returned dataframe.\n",
    "\n",
    "Output: `df` - validated and tailored dataframe object (pandas required)."
   ]
  },
  {
   "cell_type": "code",
   "execution_count": 3,
   "metadata": {
    "colab": {},
    "colab_type": "code",
    "id": "QzKXlXfIhOGM"
   },
   "outputs": [],
   "source": [
    "import pandas as pd\n",
    "# Source: https://thispointer.com/python-how-to-insert-lines-at-the-top-of-a-file/\n",
    "'''\n",
    "Default columns that are selected are:\n",
    " #0 - Current Time\n",
    " #2 - Year\n",
    " #8 - Population\n",
    " #12 - Blood Slide Prevalence\n",
    " #22-149 - Parasite Count by Genotypes\n",
    "'''\n",
    "\n",
    "def parse(file_name, interested_col = [0,2,8,12] + list(range(22,150))):\n",
    "  headline = \"current_time\\tsclock_to_time\\tyear\\tmonth\\tday\\tseasonal_fac\\ttreated_p_5-\\ttreated_p_5+\\tpopulation\\tsep\\tEIR_loc_yr\\tsep\\tblood_slide_prev\\tbsp_2_10\\tbsp_0_5\\tsep\\tmonthly_new_inf\\tsep\\tmon_treatment\\tsep\\tmon_clinical_ep\\tsep\\tKNY--C1x\\tKNY--C1X\\tKNY--C2x\\tKNY--C2X\\tKNY--Y1x\\tKNY--Y1X\\tKNY--Y2x\\tKNY--Y2X\\tKYY--C1x\\tKYY--C1X\\tKYY--C2x\\tKYY--C2X\\tKYY--Y1x\\tKYY--Y1X\\tKYY--Y2x\\tKYY--Y2X\\tKNF--C1x\\tKNF--C1X\\tKNF--C2x\\tKNF--C2X\\tKNF--Y1x\\tKNF--Y1X\\tKNF--Y2x\\tKNF--Y2X\\tKYF--C1x\\tKYF--C1X\\tKYF--C2x\\tKYF--C2X\\tKYF--Y1x\\tKYF--Y1X\\tKYF--Y2x\\tKYF--Y2X\\tKNYNYC1x\\tKNYNYC1X\\tKNYNYC2x\\tKNYNYC2X\\tKNYNYY1x\\tKNYNYY1X\\tKNYNYY2x\\tKNYNYY2X\\tKYYYYC1x\\tKYYYYC1X\\tKYYYYC2x\\tKYYYYC2X\\tKYYYYY1x\\tKYYYYY1X\\tKYYYYY2x\\tKYYYYY2X\\tKNFNFC1x\\tKNFNFC1X\\tKNFNFC2x\\tKNFNFC2X\\tKNFNFY1x\\tKNFNFY1X\\tKNFNFY2x\\tKNFNFY2X\\tKYFYFC1x\\tKYFYFC1X\\tKYFYFC2x\\tKYFYFC2X\\tKYFYFY1x\\tKYFYFY1X\\tKYFYFY2x\\tKYFYFY2X\\tTNY--C1x\\tTNY--C1X\\tTNY--C2x\\tTNY--C2X\\tTNY--Y1x\\tTNY--Y1X\\tTNY--Y2x\\tTNY--Y2X\\tTYY--C1x\\tTYY--C1X\\tTYY--C2x\\tTYY--C2X\\tTYY--Y1x\\tTYY--Y1X\\tTYY--Y2x\\tTYY--Y2X\\tTNF--C1x\\tTNF--C1X\\tTNF--C2x\\tTNF--C2X\\tTNF--Y1x\\tTNF--Y1X\\tTNF--Y2x\\tTNF--Y2X\\tTYF--C1x\\tTYF--C1X\\tTYF--C2x\\tTYF--C2X\\tTYF--Y1x\\tTYF--Y1X\\tTYF--Y2x\\tTYF--Y2X\\tTNYNYC1x\\tTNYNYC1X\\tTNYNYC2x\\tTNYNYC2X\\tTNYNYY1x\\tTNYNYY1X\\tTNYNYY2x\\tTNYNYY2X\\tTYYYYC1x\\tTYYYYC1X\\tTYYYYC2x\\tTYYYYC2X\\tTYYYYY1x\\tTYYYYY1X\\tTYYYYY2x\\tTYYYYY2X\\tTNFNFC1x\\tTNFNFC1X\\tTNFNFC2x\\tTNFNFC2X\\tTNFNFY1x\\tTNFNFY1X\\tTNFNFY2x\\tTNFNFY2X\\tTYFYFC1x\\tTYFYFC1X\\tTYFYFC2x\\tTYFYFC2X\\tTYFYFY1x\\tTYFYFY1X\\tTYFYFY2x\\tTYFYFY2X\\tsep\\tKNY--C1x\\tKNY--C1X\\tKNY--C2x\\tKNY--C2X\\tKNY--Y1x\\tKNY--Y1X\\tKNY--Y2x\\tKNY--Y2X\\tKYY--C1x\\tKYY--C1X\\tKYY--C2x\\tKYY--C2X\\tKYY--Y1x\\tKYY--Y1X\\tKYY--Y2x\\tKYY--Y2X\\tKNF--C1x\\tKNF--C1X\\tKNF--C2x\\tKNF--C2X\\tKNF--Y1x\\tKNF--Y1X\\tKNF--Y2x\\tKNF--Y2X\\tKYF--C1x\\tKYF--C1X\\tKYF--C2x\\tKYF--C2X\\tKYF--Y1x\\tKYF--Y1X\\tKYF--Y2x\\tKYF--Y2X\\tKNYNYC1x\\tKNYNYC1X\\tKNYNYC2x\\tKNYNYC2X\\tKNYNYY1x\\tKNYNYY1X\\tKNYNYY2x\\tKNYNYY2X\\tKYYYYC1x\\tKYYYYC1X\\tKYYYYC2x\\tKYYYYC2X\\tKYYYYY1x\\tKYYYYY1X\\tKYYYYY2x\\tKYYYYY2X\\tKNFNFC1x\\tKNFNFC1X\\tKNFNFC2x\\tKNFNFC2X\\tKNFNFY1x\\tKNFNFY1X\\tKNFNFY2x\\tKNFNFY2X\\tKYFYFC1x\\tKYFYFC1X\\tKYFYFC2x\\tKYFYFC2X\\tKYFYFY1x\\tKYFYFY1X\\tKYFYFY2x\\tKYFYFY2X\\tTNY--C1x\\tTNY--C1X\\tTNY--C2x\\tTNY--C2X\\tTNY--Y1x\\tTNY--Y1X\\tTNY--Y2x\\tTNY--Y2X\\tTYY--C1x\\tTYY--C1X\\tTYY--C2x\\tTYY--C2X\\tTYY--Y1x\\tTYY--Y1X\\tTYY--Y2x\\tTYY--Y2X\\tTNF--C1x\\tTNF--C1X\\tTNF--C2x\\tTNF--C2X\\tTNF--Y1x\\tTNF--Y1X\\tTNF--Y2x\\tTNF--Y2X\\tTYF--C1x\\tTYF--C1X\\tTYF--C2x\\tTYF--C2X\\tTYF--Y1x\\tTYF--Y1X\\tTYF--Y2x\\tTYF--Y2X\\tTNYNYC1x\\tTNYNYC1X\\tTNYNYC2x\\tTNYNYC2X\\tTNYNYY1x\\tTNYNYY1X\\tTNYNYY2x\\tTNYNYY2X\\tTYYYYC1x\\tTYYYYC1X\\tTYYYYC2x\\tTYYYYC2X\\tTYYYYY1x\\tTYYYYY1X\\tTYYYYY2x\\tTYYYYY2X\\tTNFNFC1x\\tTNFNFC1X\\tTNFNFC2x\\tTNFNFC2X\\tTNFNFY1x\\tTNFNFY1X\\tTNFNFY2x\\tTNFNFY2X\\tTYFYFC1x\\tTYFYFC1X\\tTYFYFC2x\\tTYFYFC2X\\tTYFYFY1x\\tTYFYFY1X\\tTYFYFY2x\\tTYFYFY2X\\tsep\\t\\t\"\n",
    "  \n",
    "  # Start - Cited Codes\n",
    "  # define name of temporary dummy file\n",
    "  dummy_file = file_name[:-4] + '_parsed.txt'\n",
    "  # open original file in read mode and dummy file in write mode\n",
    "  with open(file_name, 'r') as read_obj, open(dummy_file, 'w') as write_obj:\n",
    "    # Write given line to the dummy file\n",
    "    write_obj.write(headline + '\\n')\n",
    "    # Read lines from original file one by one and append them to the dummy file\n",
    "    for line in read_obj:\n",
    "      write_obj.write(line)\n",
    "  # End - Cited Codes\n",
    "\n",
    "  df = pd.read_csv(dummy_file, sep='\\t')\n",
    "\n",
    "  # Check if file is single-location'd\n",
    "  if len(df.columns) == 282:\n",
    "    # Return tailored df\n",
    "    df = df.iloc[:,interested_col]\n",
    "    return df\n",
    "  \n",
    "  # Error if file not single-location'd\n",
    "  return None"
   ]
  },
  {
   "cell_type": "markdown",
   "metadata": {
    "colab_type": "text",
    "id": "1qW0f2PcvNWk"
   },
   "source": [
    "### Drug Resistant Strength Calculation Function - `resistant_strength_calc`"
   ]
  },
  {
   "cell_type": "markdown",
   "metadata": {
    "colab_type": "text",
    "id": "BOdVGTi8OXwj"
   },
   "source": [
    "Input: `pattern` takes in malaria geno-type encoding. e.g. 'KNF--C1x'; \n",
    "`drugset` takes in a list of drug abbreviations (e.g. 'A', 'PPQ', etc.) that are interested for the scenario; `option` takes in a number `1` or `2`.\n",
    "\n",
    "Output: This function evaluates the Malaria encoding pattern and counts how many drugs (in the set) is this genotype resistant to. The function also counts the number of genetic (mutation) events happened regarding this genotype.\n",
    "\n",
    "For option 1, the function returns `drugnum` indicating how many drugs in the set is this pattern resistant to, and `eventcount` indicating how many mutation events happened to this genotype; for option 2, `drugnum` is the same while `allelecount` breaks down the mutation events to each allel, e.g. '11000000' indicates mutations at *K76T* and *N86Y* when using Amodiaquine (AQ)."
   ]
  },
  {
   "cell_type": "code",
   "execution_count": 4,
   "metadata": {
    "colab": {},
    "colab_type": "code",
    "id": "P4zKHrrkvNDD"
   },
   "outputs": [],
   "source": [
    "def resistant_strength_calc(pattern, drugname, option=1):\n",
    "\n",
    "  if drugname == 'AL':\n",
    "    drugset = ['A','LM']\n",
    "  elif drugname == 'AS-AQ':\n",
    "    drugset = ['A','AQ']\n",
    "  elif drugname == 'DHA-PPQ':\n",
    "    drugset = ['A','PPQ']\n",
    "  elif drugname == 'AS-MQ':\n",
    "    drugset = ['A','MQ']\n",
    "  else:\n",
    "    print(\"Drug name not found.\")\n",
    "    return None\n",
    "\n",
    "  drugnum = 0\n",
    "  allelecount = '00000000'\n",
    "    \n",
    "  if 'A' in drugset and pattern[5:6] == 'Y': # Artemisinin Resistant\n",
    "    drugnum += 1\n",
    "    allelecount = allelecount[0:5] + '1' + allelecount[6:]\n",
    "        \n",
    "  if 'PPQ' in drugset and pattern[6:7] == '2': # PPQ Resistant\n",
    "    drugnum += 1\n",
    "    allelecount = allelecount[0:6] + '1' + allelecount[7:]\n",
    "        \n",
    "  if 'LM' in drugset and pattern[0:3] != 'TYY': # LM Resistant\n",
    "    drugnum += 1\n",
    "    if pattern[0:1] == 'K': # K76T\n",
    "      allelecount = '1' + allelecount[1:]\n",
    "    if pattern[1:2] == 'N': # N86Y\n",
    "      allelecount = allelecount[0:1] + '1' + allelecount[2:]\n",
    "    if pattern[2:3] == 'F': # Y184F\n",
    "      allelecount = allelecount[0:2] + '1' + allelecount[3:]\n",
    "            \n",
    "  if 'AQ' in drugset and pattern[0:3] != 'KNF': # AQ Resistant\n",
    "    drugnum += 1\n",
    "    if pattern[0:1] == 'T': # K76T\n",
    "      allelecount = '1' + allelecount[1:]\n",
    "    if pattern[1:2] == 'Y': # N86Y\n",
    "      allelecount = allelecount[0:1] + '1' + allelecount[2:]\n",
    "    if pattern[2:3] == 'Y': # Y184F\n",
    "      allelecount = allelecount[0:2] + '1' + allelecount[3:]\n",
    "            \n",
    "  if 'MQ' in drugset: # MQ\n",
    "    if not (pattern[1:2] == 'Y' and pattern[4:5] == '--'): # If Resistance exists\n",
    "      drugnum += 1\n",
    "      if pattern[1:2] == 'N': # N86Y\n",
    "        allelecount = allelecount[0:1] + '1' + allelecount[2:]\n",
    "      if pattern[3:5] != '--': # Double Copy N86Y & Y184F\n",
    "        allelecount = allelecount[0:3] + '1-' + allelecount[5:]\n",
    "            \n",
    "  if option == 1:\n",
    "    eventcount = allelecount.count('1')\n",
    "    return (\"%s-%s\" % (drugnum, eventcount))\n",
    "  return (\"%s-%s\" % (drugnum, allelecount))"
   ]
  },
  {
   "cell_type": "markdown",
   "metadata": {
    "colab_type": "text",
    "id": "5gQ7DT9G-0yh"
   },
   "source": [
    "### Dataframe Column Name Replace Function - `df_col_replace`"
   ]
  },
  {
   "cell_type": "markdown",
   "metadata": {
    "colab_type": "text",
    "id": "1ZQPih_7OgLX"
   },
   "source": [
    "Input: `df` - dataframe object to be replaced; `drugset` - a set of drugs deployed for the simulation and thus we are interested in analyzing.\n",
    "\n",
    "Output: `df` - parsed dataframe object where genotype encodings have been replaced by their correponding drug-resistance-strength, in column names. The parsed dataframe also groups the columns with the same drug-resistance-strength.\n",
    "\n",
    "Option: `1` replace column names with drug-mutation indication set (e.g. 2-3 meaning 2-drug resistant, with 3-mutation event occured); `2` replace column name with its corresponding drug efficacy wrt. the current drugset."
   ]
  },
  {
   "cell_type": "code",
   "execution_count": 5,
   "metadata": {
    "colab": {},
    "colab_type": "code",
    "id": "MkiGSMip-124"
   },
   "outputs": [],
   "source": [
    "import pandas as pd\n",
    "\n",
    "def df_col_replace(original_df, drugset, option=1):\n",
    "  df = original_df.copy(deep=True)\n",
    "  encodingdb = ['KNY--C1x', 'KNY--C1X', 'KNY--C2x', 'KNY--C2X', 'KNY--Y1x', \n",
    "                'KNY--Y1X', 'KNY--Y2x', 'KNY--Y2X', 'KYY--C1x', 'KYY--C1X', \n",
    "                'KYY--C2x', 'KYY--C2X', 'KYY--Y1x', 'KYY--Y1X', 'KYY--Y2x', \n",
    "                'KYY--Y2X', 'KNF--C1x', 'KNF--C1X', 'KNF--C2x', 'KNF--C2X', \n",
    "                'KNF--Y1x', 'KNF--Y1X', 'KNF--Y2x', 'KNF--Y2X', 'KYF--C1x', \n",
    "                'KYF--C1X', 'KYF--C2x', 'KYF--C2X', 'KYF--Y1x', 'KYF--Y1X', \n",
    "                'KYF--Y2x', 'KYF--Y2X', 'KNYNYC1x', 'KNYNYC1X', 'KNYNYC2x', \n",
    "                'KNYNYC2X', 'KNYNYY1x', 'KNYNYY1X', 'KNYNYY2x', 'KNYNYY2X', \n",
    "                'KYYYYC1x', 'KYYYYC1X', 'KYYYYC2x', 'KYYYYC2X', 'KYYYYY1x', \n",
    "                'KYYYYY1X', 'KYYYYY2x', 'KYYYYY2X', 'KNFNFC1x', 'KNFNFC1X', \n",
    "                'KNFNFC2x', 'KNFNFC2X', 'KNFNFY1x', 'KNFNFY1X', 'KNFNFY2x', \n",
    "                'KNFNFY2X', 'KYFYFC1x', 'KYFYFC1X', 'KYFYFC2x', 'KYFYFC2X', \n",
    "                'KYFYFY1x', 'KYFYFY1X', 'KYFYFY2x', 'KYFYFY2X', 'TNY--C1x', \n",
    "                'TNY--C1X', 'TNY--C2x', 'TNY--C2X', 'TNY--Y1x', 'TNY--Y1X', \n",
    "                'TNY--Y2x', 'TNY--Y2X', 'TYY--C1x', 'TYY--C1X', 'TYY--C2x', \n",
    "                'TYY--C2X', 'TYY--Y1x', 'TYY--Y1X', 'TYY--Y2x', 'TYY--Y2X', \n",
    "                'TNF--C1x', 'TNF--C1X', 'TNF--C2x', 'TNF--C2X', 'TNF--Y1x', \n",
    "                'TNF--Y1X', 'TNF--Y2x', 'TNF--Y2X', 'TYF--C1x', 'TYF--C1X', \n",
    "                'TYF--C2x', 'TYF--C2X', 'TYF--Y1x', 'TYF--Y1X', 'TYF--Y2x', \n",
    "                'TYF--Y2X', 'TNYNYC1x', 'TNYNYC1X', 'TNYNYC2x', 'TNYNYC2X', \n",
    "                'TNYNYY1x', 'TNYNYY1X', 'TNYNYY2x', 'TNYNYY2X', 'TYYYYC1x', \n",
    "                'TYYYYC1X', 'TYYYYC2x', 'TYYYYC2X', 'TYYYYY1x', 'TYYYYY1X', \n",
    "                'TYYYYY2x', 'TYYYYY2X', 'TNFNFC1x', 'TNFNFC1X', 'TNFNFC2x', \n",
    "                'TNFNFC2X', 'TNFNFY1x', 'TNFNFY1X', 'TNFNFY2x', 'TNFNFY2X', \n",
    "                'TYFYFC1x', 'TYFYFC1X', 'TYFYFC2x', 'TYFYFC2X', 'TYFYFY1x', \n",
    "                'TYFYFY1X', 'TYFYFY2x', 'TYFYFY2X']\n",
    "  replacedict = {}\n",
    "\n",
    "  # prepare dictionary based on resistance strength\n",
    "  if option==1:\n",
    "    for genotype in encodingdb:\n",
    "      replacedict[genotype] = resistant_strength_calc(genotype, drugset)\n",
    "  # prepare dictionary based on drug efficacy\n",
    "  elif option==2:\n",
    "    efficacydf = pd.read_csv('ef2020.csv')\n",
    "    efficacydf = efficacydf.set_index('Shortname').iloc[:,1:]\n",
    "    for genotype in encodingdb:\n",
    "      replacedict[genotype] = efficacydf[genotype,drugset]\n",
    "  else:\n",
    "    print(\"Option not found.\")\n",
    "    return None\n",
    "\n",
    "  # Replace Column names with their corresponding MDR Strength   \n",
    "  df.rename(columns=replacedict,inplace=True)\n",
    "\n",
    "  # Sum-up the columns sharing the same name and return\n",
    "  return df.groupby(by=df.columns, axis=1).sum()"
   ]
  },
  {
   "cell_type": "markdown",
   "metadata": {
    "colab_type": "text",
    "id": "vE5zn3h6LVGM"
   },
   "source": [
    "### Blood Slide Prevalence Plot Function - `bsp_plot`\n",
    "This function takes in the parsed dataframe `df`, and returns the plot of Blood Slide Prevalence (population count) against time (years)."
   ]
  },
  {
   "cell_type": "code",
   "execution_count": 6,
   "metadata": {
    "colab": {},
    "colab_type": "code",
    "id": "6IORC1qrLVlG"
   },
   "outputs": [],
   "source": [
    "import pandas as pd\n",
    "import matplotlib.pyplot as plt\n",
    "import matplotlib.ticker as ticker\n",
    "\n",
    "def bsp_plot(df, xlocator=5*365, xlabel='Years', ylabel='Percentage of Population', title='Blood Slide Prevalence Plot'):\n",
    "  plt.rcParams['figure.figsize'] = [12, 6]\n",
    "  fig, ax1 = plt.subplots()\n",
    "\n",
    "  scale_x = 365\n",
    "  ticks_x = ticker.FuncFormatter(lambda x, pos: '{0:g}'.format(x/scale_x))\n",
    "\n",
    "  ax1.plot(df['current_time'], df['blood_slide_prev'])\n",
    "  ax1.xaxis.set_major_locator(ticker.MultipleLocator(xlocator))\n",
    "  ax1.xaxis.set_major_formatter(ticks_x)\n",
    "  ax1.set_xlabel(xlabel)\n",
    "  ax1.set_ylabel(ylabel)\n",
    "  ax1.set_title(title)\n",
    "\n",
    "  plt.grid()\n",
    "  return ax1"
   ]
  },
  {
   "cell_type": "markdown",
   "metadata": {
    "colab_type": "text",
    "id": "4D0-q5kiI8cn"
   },
   "source": [
    "### MDR Parasite Population Plot - `mdr_ppc_plot`\n",
    "This function takes in the processed dataframe, that is being column-name-reaplced and same-column-combined, and plots the parasite population count against time, including all MDR cases represented by different colors, with a legend."
   ]
  },
  {
   "cell_type": "code",
   "execution_count": 7,
   "metadata": {
    "colab": {},
    "colab_type": "code",
    "id": "SdyuKQF5I8pF"
   },
   "outputs": [],
   "source": [
    "import pandas as pd\n",
    "import numpy as np\n",
    "import matplotlib.pyplot as plt\n",
    "import matplotlib.ticker as ticker\n",
    "\n",
    "def mdr_ppc_plot(df_list, totaldrugname, strategy, option, \n",
    "                 xlocator=5*365, xlabel='Years', \n",
    "                 ylabel='Genotype Frequency', \n",
    "                 title='Evolution of Single- and Multi-Drug-Resistant Types', \n",
    "                 plotwidth=12, plotheight=4):\n",
    "  \n",
    "  subplotnum = len(df_list)\n",
    "  if option == 1:\n",
    "    legend_color = {\n",
    "      \"0-0\": \"#CCE5FF\", # blue for wild type\n",
    "      \"1-1\": \"#FAD996\", # light orange\n",
    "      \"1-2\": \"#FFAB00\", # medium orange\n",
    "      \"1-3\": \"#C76400\", # dark orange\n",
    "      \"2-1\": \"#F09187\", # light red\n",
    "      \"2-2\": \"#FF1A00\", # medium red\n",
    "      \"2-3\": \"#A91606\", # dark red\n",
    "      \"2-4\": \"k\" # black\n",
    "    }\n",
    "\n",
    "  scale_x = 365\n",
    "  ticks_x = ticker.FuncFormatter(lambda x, pos: '{0:g}'.format(x/scale_x))\n",
    "  plt.rcParams['figure.figsize'] = [plotwidth, plotheight*subplotnum]\n",
    "  fig, axes = plt.subplots(nrows=subplotnum, ncols=1)\n",
    "  fig.patch.set_facecolor('white')\n",
    "  fig.suptitle('%s - %s Strategy' % (title, strategy), y=0.92, fontweight='bold')\n",
    "  plt.xlabel(xlabel)\n",
    "  plt.ylabel(ylabel)\n",
    "\n",
    "  # Looping thru all therapy and draw subplot\n",
    "  for (ax, df, drugname) in zip(axes.flatten(), df_list, totaldrugname):\n",
    "    annotate_place = df.iloc[:,:-4].max().max()\n",
    "    col_names = list(df.columns)\n",
    "    mdr_cases = col_names[:-4] # Last four columns are not about MDR\n",
    "    # Loop thru each MDR case\n",
    "    for mdr_case in mdr_cases:\n",
    "      #ax.plot(df['current_time'], df[mdr_case], label=mdr_case, color=legend_color.get(mdr_case))\n",
    "      ax.plot(df['current_time'], df[mdr_case], label=mdr_case)\n",
    "    ax.xaxis.set_major_locator(ticker.MultipleLocator(xlocator))\n",
    "    ax.xaxis.set_major_formatter(ticks_x)\n",
    "    ax.set(title='(w.r.t. %s)' % drugname)\n",
    "\n",
    "    ax.text(4.5*365, annotate_place+0.03, 'Burn-in')\n",
    "    # ax.text(11.5*365, annotate_place+0.03, 'DHA-PPQ')\n",
    "    # ax.text(16.5*365, annotate_place+0.03, 'AS-AQ')\n",
    "    # ax.text(21.5*365, annotate_place+0.03, 'AL')\n",
    "    # ax.text(26.5*365, annotate_place+0.03, 'DHA-PPQ')\n",
    "    ax.set_ylim(top=annotate_place+0.1)\n",
    "    ax.legend()\n",
    "    ax.grid()\n"
   ]
  },
  {
   "cell_type": "markdown",
   "metadata": {
    "colab_type": "text",
    "id": "VIX2CVyiFkr3"
   },
   "source": [
    "## Assembly (Main) Function\n",
    "This is the main function that assembles all other functions together."
   ]
  },
  {
   "cell_type": "code",
   "execution_count": 8,
   "metadata": {
    "colab": {},
    "colab_type": "code",
    "id": "91V5zuxMGrwo"
   },
   "outputs": [],
   "source": [
    "# totaldrugset can be a list of list, where the function generates MDR case \n",
    "# plottings by sub-panels to show perspectives from each therapy\n",
    "\n",
    "def result_assembly(filepath, totaldrugname, strategy, plot='bsp'):\n",
    "  \n",
    "  # Parse the output file and check if single-location'd\n",
    "  df = parse(filepath)\n",
    "  if (df is None):\n",
    "    return \"Error. Not a single-location'd file.\"\n",
    "    \n",
    "  if plot == 'bsp': # Plot blood slide prevalence\n",
    "    return(bsp_plot(df))\n",
    "\n",
    "  elif plot[:-1] == 'mdr': # Plot MDR Analysis from each therapy's perspective\n",
    "    df_list= list()\n",
    "    option = int(plot[-1])\n",
    "    if option != 1 and option != 2:\n",
    "      return \"Error. Plot option not found.\"\n",
    "\n",
    "    # Iterate through each drugset (associated with thearpy)\n",
    "    for therapydrugset in totaldrugname:       \n",
    "      # Error Handlings\n",
    "      if therapydrugset not in ['AL','AS-AQ','DHA-PPQ','AS-MQ']:\n",
    "        return \"Error. ACT drug not found.\"\n",
    "      if 'AL' in therapydrugset and 'AS-AQ' in therapydrugset:\n",
    "        return \"Error. Impossible to analyze both LM and AQ together.\"\n",
    "      # Analyze MDR cases and further process the dataframe\n",
    "      mdr_parsed_df = df_col_replace(df, therapydrugset, option=option)\n",
    "      df_list.append(mdr_parsed_df)\n",
    "    \n",
    "    # Plot, in subpanels, parasite count by case plot\n",
    "    return(mdr_ppc_plot(df_list=df_list, totaldrugname=totaldrugname, \n",
    "                        strategy=strategy, option=option))\n",
    "  \n",
    "  elif plot == 'mdca': # Plot for Most-Dangerous-Case-Analysis\n",
    "    return \"To be implemented!\"\n",
    "  \n",
    "  else:\n",
    "    return \"Plot option not found.\""
   ]
  },
  {
   "cell_type": "markdown",
   "metadata": {
    "colab_type": "text",
    "id": "FnxW3tvS5zRn"
   },
   "source": [
    "## Result Assembling - Start Here"
   ]
  },
  {
   "cell_type": "code",
   "execution_count": 10,
   "metadata": {
    "colab": {
     "base_uri": "https://localhost:8080/",
     "height": 506
    },
    "colab_type": "code",
    "id": "n38aA97hTYg-",
    "outputId": "9ea117c1-556d-4ff6-e3b8-483c9b3e4540"
   },
   "outputs": [
    {
     "ename": "KeyError",
     "evalue": "('KNY--C1x', 'DHA-PPQ')",
     "output_type": "error",
     "traceback": [
      "\u001b[0;31m---------------------------------------------------------------------------\u001b[0m",
      "\u001b[0;31mKeyError\u001b[0m                                  Traceback (most recent call last)",
      "\u001b[0;32m~/anaconda3/lib/python3.7/site-packages/pandas/core/indexes/base.py\u001b[0m in \u001b[0;36mget_loc\u001b[0;34m(self, key, method, tolerance)\u001b[0m\n\u001b[1;32m   2645\u001b[0m             \u001b[0;32mtry\u001b[0m\u001b[0;34m:\u001b[0m\u001b[0;34m\u001b[0m\u001b[0;34m\u001b[0m\u001b[0m\n\u001b[0;32m-> 2646\u001b[0;31m                 \u001b[0;32mreturn\u001b[0m \u001b[0mself\u001b[0m\u001b[0;34m.\u001b[0m\u001b[0m_engine\u001b[0m\u001b[0;34m.\u001b[0m\u001b[0mget_loc\u001b[0m\u001b[0;34m(\u001b[0m\u001b[0mkey\u001b[0m\u001b[0;34m)\u001b[0m\u001b[0;34m\u001b[0m\u001b[0;34m\u001b[0m\u001b[0m\n\u001b[0m\u001b[1;32m   2647\u001b[0m             \u001b[0;32mexcept\u001b[0m \u001b[0mKeyError\u001b[0m\u001b[0;34m:\u001b[0m\u001b[0;34m\u001b[0m\u001b[0;34m\u001b[0m\u001b[0m\n",
      "\u001b[0;32mpandas/_libs/index.pyx\u001b[0m in \u001b[0;36mpandas._libs.index.IndexEngine.get_loc\u001b[0;34m()\u001b[0m\n",
      "\u001b[0;32mpandas/_libs/index.pyx\u001b[0m in \u001b[0;36mpandas._libs.index.IndexEngine.get_loc\u001b[0;34m()\u001b[0m\n",
      "\u001b[0;32mpandas/_libs/hashtable_class_helper.pxi\u001b[0m in \u001b[0;36mpandas._libs.hashtable.PyObjectHashTable.get_item\u001b[0;34m()\u001b[0m\n",
      "\u001b[0;32mpandas/_libs/hashtable_class_helper.pxi\u001b[0m in \u001b[0;36mpandas._libs.hashtable.PyObjectHashTable.get_item\u001b[0;34m()\u001b[0m\n",
      "\u001b[0;31mKeyError\u001b[0m: ('KNY--C1x', 'DHA-PPQ')",
      "\nDuring handling of the above exception, another exception occurred:\n",
      "\u001b[0;31mKeyError\u001b[0m                                  Traceback (most recent call last)",
      "\u001b[0;32m<ipython-input-10-6ff2e6a362f4>\u001b[0m in \u001b[0;36m<module>\u001b[0;34m\u001b[0m\n\u001b[1;32m      2\u001b[0m \u001b[0;34m\u001b[0m\u001b[0m\n\u001b[1;32m      3\u001b[0m result_assembly(filepath='3.txt', totaldrugname=totaldrugname, \n\u001b[0;32m----> 4\u001b[0;31m                 strategy='Cycling', plot='mdr2')\n\u001b[0m",
      "\u001b[0;32m<ipython-input-8-ab2dadd3f64d>\u001b[0m in \u001b[0;36mresult_assembly\u001b[0;34m(filepath, totaldrugname, strategy, plot)\u001b[0m\n\u001b[1;32m     26\u001b[0m         \u001b[0;32mreturn\u001b[0m \u001b[0;34m\"Error. Impossible to analyze both LM and AQ together.\"\u001b[0m\u001b[0;34m\u001b[0m\u001b[0;34m\u001b[0m\u001b[0m\n\u001b[1;32m     27\u001b[0m       \u001b[0;31m# Analyze MDR cases and further process the dataframe\u001b[0m\u001b[0;34m\u001b[0m\u001b[0;34m\u001b[0m\u001b[0;34m\u001b[0m\u001b[0m\n\u001b[0;32m---> 28\u001b[0;31m       \u001b[0mmdr_parsed_df\u001b[0m \u001b[0;34m=\u001b[0m \u001b[0mdf_col_replace\u001b[0m\u001b[0;34m(\u001b[0m\u001b[0mdf\u001b[0m\u001b[0;34m,\u001b[0m \u001b[0mtherapydrugset\u001b[0m\u001b[0;34m,\u001b[0m \u001b[0moption\u001b[0m\u001b[0;34m=\u001b[0m\u001b[0moption\u001b[0m\u001b[0;34m)\u001b[0m\u001b[0;34m\u001b[0m\u001b[0;34m\u001b[0m\u001b[0m\n\u001b[0m\u001b[1;32m     29\u001b[0m       \u001b[0mdf_list\u001b[0m\u001b[0;34m.\u001b[0m\u001b[0mappend\u001b[0m\u001b[0;34m(\u001b[0m\u001b[0mmdr_parsed_df\u001b[0m\u001b[0;34m)\u001b[0m\u001b[0;34m\u001b[0m\u001b[0;34m\u001b[0m\u001b[0m\n\u001b[1;32m     30\u001b[0m \u001b[0;34m\u001b[0m\u001b[0m\n",
      "\u001b[0;32m<ipython-input-5-196e2bd34a7f>\u001b[0m in \u001b[0;36mdf_col_replace\u001b[0;34m(original_df, drugset, option)\u001b[0m\n\u001b[1;32m     40\u001b[0m     \u001b[0mefficacydf\u001b[0m \u001b[0;34m=\u001b[0m \u001b[0mefficacydf\u001b[0m\u001b[0;34m.\u001b[0m\u001b[0mset_index\u001b[0m\u001b[0;34m(\u001b[0m\u001b[0;34m'Shortname'\u001b[0m\u001b[0;34m)\u001b[0m\u001b[0;34m.\u001b[0m\u001b[0miloc\u001b[0m\u001b[0;34m[\u001b[0m\u001b[0;34m:\u001b[0m\u001b[0;34m,\u001b[0m\u001b[0;36m1\u001b[0m\u001b[0;34m:\u001b[0m\u001b[0;34m]\u001b[0m\u001b[0;34m\u001b[0m\u001b[0;34m\u001b[0m\u001b[0m\n\u001b[1;32m     41\u001b[0m     \u001b[0;32mfor\u001b[0m \u001b[0mgenotype\u001b[0m \u001b[0;32min\u001b[0m \u001b[0mencodingdb\u001b[0m\u001b[0;34m:\u001b[0m\u001b[0;34m\u001b[0m\u001b[0;34m\u001b[0m\u001b[0m\n\u001b[0;32m---> 42\u001b[0;31m       \u001b[0mreplacedict\u001b[0m\u001b[0;34m[\u001b[0m\u001b[0mgenotype\u001b[0m\u001b[0;34m]\u001b[0m \u001b[0;34m=\u001b[0m \u001b[0mefficacydf\u001b[0m\u001b[0;34m[\u001b[0m\u001b[0mgenotype\u001b[0m\u001b[0;34m,\u001b[0m\u001b[0mdrugset\u001b[0m\u001b[0;34m]\u001b[0m\u001b[0;34m\u001b[0m\u001b[0;34m\u001b[0m\u001b[0m\n\u001b[0m\u001b[1;32m     43\u001b[0m   \u001b[0;32melse\u001b[0m\u001b[0;34m:\u001b[0m\u001b[0;34m\u001b[0m\u001b[0;34m\u001b[0m\u001b[0m\n\u001b[1;32m     44\u001b[0m     \u001b[0mprint\u001b[0m\u001b[0;34m(\u001b[0m\u001b[0;34m\"Option not found.\"\u001b[0m\u001b[0;34m)\u001b[0m\u001b[0;34m\u001b[0m\u001b[0;34m\u001b[0m\u001b[0m\n",
      "\u001b[0;32m~/anaconda3/lib/python3.7/site-packages/pandas/core/frame.py\u001b[0m in \u001b[0;36m__getitem__\u001b[0;34m(self, key)\u001b[0m\n\u001b[1;32m   2798\u001b[0m             \u001b[0;32mif\u001b[0m \u001b[0mself\u001b[0m\u001b[0;34m.\u001b[0m\u001b[0mcolumns\u001b[0m\u001b[0;34m.\u001b[0m\u001b[0mnlevels\u001b[0m \u001b[0;34m>\u001b[0m \u001b[0;36m1\u001b[0m\u001b[0;34m:\u001b[0m\u001b[0;34m\u001b[0m\u001b[0;34m\u001b[0m\u001b[0m\n\u001b[1;32m   2799\u001b[0m                 \u001b[0;32mreturn\u001b[0m \u001b[0mself\u001b[0m\u001b[0;34m.\u001b[0m\u001b[0m_getitem_multilevel\u001b[0m\u001b[0;34m(\u001b[0m\u001b[0mkey\u001b[0m\u001b[0;34m)\u001b[0m\u001b[0;34m\u001b[0m\u001b[0;34m\u001b[0m\u001b[0m\n\u001b[0;32m-> 2800\u001b[0;31m             \u001b[0mindexer\u001b[0m \u001b[0;34m=\u001b[0m \u001b[0mself\u001b[0m\u001b[0;34m.\u001b[0m\u001b[0mcolumns\u001b[0m\u001b[0;34m.\u001b[0m\u001b[0mget_loc\u001b[0m\u001b[0;34m(\u001b[0m\u001b[0mkey\u001b[0m\u001b[0;34m)\u001b[0m\u001b[0;34m\u001b[0m\u001b[0;34m\u001b[0m\u001b[0m\n\u001b[0m\u001b[1;32m   2801\u001b[0m             \u001b[0;32mif\u001b[0m \u001b[0mis_integer\u001b[0m\u001b[0;34m(\u001b[0m\u001b[0mindexer\u001b[0m\u001b[0;34m)\u001b[0m\u001b[0;34m:\u001b[0m\u001b[0;34m\u001b[0m\u001b[0;34m\u001b[0m\u001b[0m\n\u001b[1;32m   2802\u001b[0m                 \u001b[0mindexer\u001b[0m \u001b[0;34m=\u001b[0m \u001b[0;34m[\u001b[0m\u001b[0mindexer\u001b[0m\u001b[0;34m]\u001b[0m\u001b[0;34m\u001b[0m\u001b[0;34m\u001b[0m\u001b[0m\n",
      "\u001b[0;32m~/anaconda3/lib/python3.7/site-packages/pandas/core/indexes/base.py\u001b[0m in \u001b[0;36mget_loc\u001b[0;34m(self, key, method, tolerance)\u001b[0m\n\u001b[1;32m   2646\u001b[0m                 \u001b[0;32mreturn\u001b[0m \u001b[0mself\u001b[0m\u001b[0;34m.\u001b[0m\u001b[0m_engine\u001b[0m\u001b[0;34m.\u001b[0m\u001b[0mget_loc\u001b[0m\u001b[0;34m(\u001b[0m\u001b[0mkey\u001b[0m\u001b[0;34m)\u001b[0m\u001b[0;34m\u001b[0m\u001b[0;34m\u001b[0m\u001b[0m\n\u001b[1;32m   2647\u001b[0m             \u001b[0;32mexcept\u001b[0m \u001b[0mKeyError\u001b[0m\u001b[0;34m:\u001b[0m\u001b[0;34m\u001b[0m\u001b[0;34m\u001b[0m\u001b[0m\n\u001b[0;32m-> 2648\u001b[0;31m                 \u001b[0;32mreturn\u001b[0m \u001b[0mself\u001b[0m\u001b[0;34m.\u001b[0m\u001b[0m_engine\u001b[0m\u001b[0;34m.\u001b[0m\u001b[0mget_loc\u001b[0m\u001b[0;34m(\u001b[0m\u001b[0mself\u001b[0m\u001b[0;34m.\u001b[0m\u001b[0m_maybe_cast_indexer\u001b[0m\u001b[0;34m(\u001b[0m\u001b[0mkey\u001b[0m\u001b[0;34m)\u001b[0m\u001b[0;34m)\u001b[0m\u001b[0;34m\u001b[0m\u001b[0;34m\u001b[0m\u001b[0m\n\u001b[0m\u001b[1;32m   2649\u001b[0m         \u001b[0mindexer\u001b[0m \u001b[0;34m=\u001b[0m \u001b[0mself\u001b[0m\u001b[0;34m.\u001b[0m\u001b[0mget_indexer\u001b[0m\u001b[0;34m(\u001b[0m\u001b[0;34m[\u001b[0m\u001b[0mkey\u001b[0m\u001b[0;34m]\u001b[0m\u001b[0;34m,\u001b[0m \u001b[0mmethod\u001b[0m\u001b[0;34m=\u001b[0m\u001b[0mmethod\u001b[0m\u001b[0;34m,\u001b[0m \u001b[0mtolerance\u001b[0m\u001b[0;34m=\u001b[0m\u001b[0mtolerance\u001b[0m\u001b[0;34m)\u001b[0m\u001b[0;34m\u001b[0m\u001b[0;34m\u001b[0m\u001b[0m\n\u001b[1;32m   2650\u001b[0m         \u001b[0;32mif\u001b[0m \u001b[0mindexer\u001b[0m\u001b[0;34m.\u001b[0m\u001b[0mndim\u001b[0m \u001b[0;34m>\u001b[0m \u001b[0;36m1\u001b[0m \u001b[0;32mor\u001b[0m \u001b[0mindexer\u001b[0m\u001b[0;34m.\u001b[0m\u001b[0msize\u001b[0m \u001b[0;34m>\u001b[0m \u001b[0;36m1\u001b[0m\u001b[0;34m:\u001b[0m\u001b[0;34m\u001b[0m\u001b[0;34m\u001b[0m\u001b[0m\n",
      "\u001b[0;32mpandas/_libs/index.pyx\u001b[0m in \u001b[0;36mpandas._libs.index.IndexEngine.get_loc\u001b[0;34m()\u001b[0m\n",
      "\u001b[0;32mpandas/_libs/index.pyx\u001b[0m in \u001b[0;36mpandas._libs.index.IndexEngine.get_loc\u001b[0;34m()\u001b[0m\n",
      "\u001b[0;32mpandas/_libs/hashtable_class_helper.pxi\u001b[0m in \u001b[0;36mpandas._libs.hashtable.PyObjectHashTable.get_item\u001b[0;34m()\u001b[0m\n",
      "\u001b[0;32mpandas/_libs/hashtable_class_helper.pxi\u001b[0m in \u001b[0;36mpandas._libs.hashtable.PyObjectHashTable.get_item\u001b[0;34m()\u001b[0m\n",
      "\u001b[0;31mKeyError\u001b[0m: ('KNY--C1x', 'DHA-PPQ')"
     ]
    }
   ],
   "source": [
    "totaldrugname = ['DHA-PPQ','AS-AQ','AL']\n",
    "\n",
    "result_assembly(filepath='3.txt', totaldrugname=totaldrugname, \n",
    "                strategy='Cycling', plot='mdr2')"
   ]
  },
  {
   "cell_type": "code",
   "execution_count": 13,
   "metadata": {},
   "outputs": [
    {
     "ename": "KeyError",
     "evalue": "('KNY--C1x', 'DHA-PPQ')",
     "output_type": "error",
     "traceback": [
      "\u001b[0;31m---------------------------------------------------------------------------\u001b[0m",
      "\u001b[0;31mKeyError\u001b[0m                                  Traceback (most recent call last)",
      "\u001b[0;32m~/anaconda3/lib/python3.7/site-packages/pandas/core/indexes/base.py\u001b[0m in \u001b[0;36mget_loc\u001b[0;34m(self, key, method, tolerance)\u001b[0m\n\u001b[1;32m   2645\u001b[0m             \u001b[0;32mtry\u001b[0m\u001b[0;34m:\u001b[0m\u001b[0;34m\u001b[0m\u001b[0;34m\u001b[0m\u001b[0m\n\u001b[0;32m-> 2646\u001b[0;31m                 \u001b[0;32mreturn\u001b[0m \u001b[0mself\u001b[0m\u001b[0;34m.\u001b[0m\u001b[0m_engine\u001b[0m\u001b[0;34m.\u001b[0m\u001b[0mget_loc\u001b[0m\u001b[0;34m(\u001b[0m\u001b[0mkey\u001b[0m\u001b[0;34m)\u001b[0m\u001b[0;34m\u001b[0m\u001b[0;34m\u001b[0m\u001b[0m\n\u001b[0m\u001b[1;32m   2647\u001b[0m             \u001b[0;32mexcept\u001b[0m \u001b[0mKeyError\u001b[0m\u001b[0;34m:\u001b[0m\u001b[0;34m\u001b[0m\u001b[0;34m\u001b[0m\u001b[0m\n",
      "\u001b[0;32mpandas/_libs/index.pyx\u001b[0m in \u001b[0;36mpandas._libs.index.IndexEngine.get_loc\u001b[0;34m()\u001b[0m\n",
      "\u001b[0;32mpandas/_libs/index.pyx\u001b[0m in \u001b[0;36mpandas._libs.index.IndexEngine.get_loc\u001b[0;34m()\u001b[0m\n",
      "\u001b[0;32mpandas/_libs/hashtable_class_helper.pxi\u001b[0m in \u001b[0;36mpandas._libs.hashtable.PyObjectHashTable.get_item\u001b[0;34m()\u001b[0m\n",
      "\u001b[0;32mpandas/_libs/hashtable_class_helper.pxi\u001b[0m in \u001b[0;36mpandas._libs.hashtable.PyObjectHashTable.get_item\u001b[0;34m()\u001b[0m\n",
      "\u001b[0;31mKeyError\u001b[0m: ('KNY--C1x', 'DHA-PPQ')",
      "\nDuring handling of the above exception, another exception occurred:\n",
      "\u001b[0;31mKeyError\u001b[0m                                  Traceback (most recent call last)",
      "\u001b[0;32m<ipython-input-13-21b2aeca6f58>\u001b[0m in \u001b[0;36m<module>\u001b[0;34m\u001b[0m\n\u001b[1;32m      1\u001b[0m \u001b[0mefficacydf\u001b[0m \u001b[0;34m=\u001b[0m \u001b[0mpd\u001b[0m\u001b[0;34m.\u001b[0m\u001b[0mread_csv\u001b[0m\u001b[0;34m(\u001b[0m\u001b[0;34m'ef2020.csv'\u001b[0m\u001b[0;34m)\u001b[0m\u001b[0;34m\u001b[0m\u001b[0;34m\u001b[0m\u001b[0m\n\u001b[1;32m      2\u001b[0m \u001b[0mefficacydf\u001b[0m \u001b[0;34m=\u001b[0m \u001b[0mefficacydf\u001b[0m\u001b[0;34m.\u001b[0m\u001b[0mset_index\u001b[0m\u001b[0;34m(\u001b[0m\u001b[0;34m'Shortname'\u001b[0m\u001b[0;34m)\u001b[0m\u001b[0;34m.\u001b[0m\u001b[0miloc\u001b[0m\u001b[0;34m[\u001b[0m\u001b[0;34m:\u001b[0m\u001b[0;34m,\u001b[0m\u001b[0;36m1\u001b[0m\u001b[0;34m:\u001b[0m\u001b[0;34m]\u001b[0m\u001b[0;34m\u001b[0m\u001b[0;34m\u001b[0m\u001b[0m\n\u001b[0;32m----> 3\u001b[0;31m \u001b[0mefficacydf\u001b[0m\u001b[0;34m[\u001b[0m\u001b[0;34m'KNY--C1x'\u001b[0m\u001b[0;34m,\u001b[0m \u001b[0;34m'DHA-PPQ'\u001b[0m\u001b[0;34m]\u001b[0m\u001b[0;34m\u001b[0m\u001b[0;34m\u001b[0m\u001b[0m\n\u001b[0m",
      "\u001b[0;32m~/anaconda3/lib/python3.7/site-packages/pandas/core/frame.py\u001b[0m in \u001b[0;36m__getitem__\u001b[0;34m(self, key)\u001b[0m\n\u001b[1;32m   2798\u001b[0m             \u001b[0;32mif\u001b[0m \u001b[0mself\u001b[0m\u001b[0;34m.\u001b[0m\u001b[0mcolumns\u001b[0m\u001b[0;34m.\u001b[0m\u001b[0mnlevels\u001b[0m \u001b[0;34m>\u001b[0m \u001b[0;36m1\u001b[0m\u001b[0;34m:\u001b[0m\u001b[0;34m\u001b[0m\u001b[0;34m\u001b[0m\u001b[0m\n\u001b[1;32m   2799\u001b[0m                 \u001b[0;32mreturn\u001b[0m \u001b[0mself\u001b[0m\u001b[0;34m.\u001b[0m\u001b[0m_getitem_multilevel\u001b[0m\u001b[0;34m(\u001b[0m\u001b[0mkey\u001b[0m\u001b[0;34m)\u001b[0m\u001b[0;34m\u001b[0m\u001b[0;34m\u001b[0m\u001b[0m\n\u001b[0;32m-> 2800\u001b[0;31m             \u001b[0mindexer\u001b[0m \u001b[0;34m=\u001b[0m \u001b[0mself\u001b[0m\u001b[0;34m.\u001b[0m\u001b[0mcolumns\u001b[0m\u001b[0;34m.\u001b[0m\u001b[0mget_loc\u001b[0m\u001b[0;34m(\u001b[0m\u001b[0mkey\u001b[0m\u001b[0;34m)\u001b[0m\u001b[0;34m\u001b[0m\u001b[0;34m\u001b[0m\u001b[0m\n\u001b[0m\u001b[1;32m   2801\u001b[0m             \u001b[0;32mif\u001b[0m \u001b[0mis_integer\u001b[0m\u001b[0;34m(\u001b[0m\u001b[0mindexer\u001b[0m\u001b[0;34m)\u001b[0m\u001b[0;34m:\u001b[0m\u001b[0;34m\u001b[0m\u001b[0;34m\u001b[0m\u001b[0m\n\u001b[1;32m   2802\u001b[0m                 \u001b[0mindexer\u001b[0m \u001b[0;34m=\u001b[0m \u001b[0;34m[\u001b[0m\u001b[0mindexer\u001b[0m\u001b[0;34m]\u001b[0m\u001b[0;34m\u001b[0m\u001b[0;34m\u001b[0m\u001b[0m\n",
      "\u001b[0;32m~/anaconda3/lib/python3.7/site-packages/pandas/core/indexes/base.py\u001b[0m in \u001b[0;36mget_loc\u001b[0;34m(self, key, method, tolerance)\u001b[0m\n\u001b[1;32m   2646\u001b[0m                 \u001b[0;32mreturn\u001b[0m \u001b[0mself\u001b[0m\u001b[0;34m.\u001b[0m\u001b[0m_engine\u001b[0m\u001b[0;34m.\u001b[0m\u001b[0mget_loc\u001b[0m\u001b[0;34m(\u001b[0m\u001b[0mkey\u001b[0m\u001b[0;34m)\u001b[0m\u001b[0;34m\u001b[0m\u001b[0;34m\u001b[0m\u001b[0m\n\u001b[1;32m   2647\u001b[0m             \u001b[0;32mexcept\u001b[0m \u001b[0mKeyError\u001b[0m\u001b[0;34m:\u001b[0m\u001b[0;34m\u001b[0m\u001b[0;34m\u001b[0m\u001b[0m\n\u001b[0;32m-> 2648\u001b[0;31m                 \u001b[0;32mreturn\u001b[0m \u001b[0mself\u001b[0m\u001b[0;34m.\u001b[0m\u001b[0m_engine\u001b[0m\u001b[0;34m.\u001b[0m\u001b[0mget_loc\u001b[0m\u001b[0;34m(\u001b[0m\u001b[0mself\u001b[0m\u001b[0;34m.\u001b[0m\u001b[0m_maybe_cast_indexer\u001b[0m\u001b[0;34m(\u001b[0m\u001b[0mkey\u001b[0m\u001b[0;34m)\u001b[0m\u001b[0;34m)\u001b[0m\u001b[0;34m\u001b[0m\u001b[0;34m\u001b[0m\u001b[0m\n\u001b[0m\u001b[1;32m   2649\u001b[0m         \u001b[0mindexer\u001b[0m \u001b[0;34m=\u001b[0m \u001b[0mself\u001b[0m\u001b[0;34m.\u001b[0m\u001b[0mget_indexer\u001b[0m\u001b[0;34m(\u001b[0m\u001b[0;34m[\u001b[0m\u001b[0mkey\u001b[0m\u001b[0;34m]\u001b[0m\u001b[0;34m,\u001b[0m \u001b[0mmethod\u001b[0m\u001b[0;34m=\u001b[0m\u001b[0mmethod\u001b[0m\u001b[0;34m,\u001b[0m \u001b[0mtolerance\u001b[0m\u001b[0;34m=\u001b[0m\u001b[0mtolerance\u001b[0m\u001b[0;34m)\u001b[0m\u001b[0;34m\u001b[0m\u001b[0;34m\u001b[0m\u001b[0m\n\u001b[1;32m   2650\u001b[0m         \u001b[0;32mif\u001b[0m \u001b[0mindexer\u001b[0m\u001b[0;34m.\u001b[0m\u001b[0mndim\u001b[0m \u001b[0;34m>\u001b[0m \u001b[0;36m1\u001b[0m \u001b[0;32mor\u001b[0m \u001b[0mindexer\u001b[0m\u001b[0;34m.\u001b[0m\u001b[0msize\u001b[0m \u001b[0;34m>\u001b[0m \u001b[0;36m1\u001b[0m\u001b[0;34m:\u001b[0m\u001b[0;34m\u001b[0m\u001b[0;34m\u001b[0m\u001b[0m\n",
      "\u001b[0;32mpandas/_libs/index.pyx\u001b[0m in \u001b[0;36mpandas._libs.index.IndexEngine.get_loc\u001b[0;34m()\u001b[0m\n",
      "\u001b[0;32mpandas/_libs/index.pyx\u001b[0m in \u001b[0;36mpandas._libs.index.IndexEngine.get_loc\u001b[0;34m()\u001b[0m\n",
      "\u001b[0;32mpandas/_libs/hashtable_class_helper.pxi\u001b[0m in \u001b[0;36mpandas._libs.hashtable.PyObjectHashTable.get_item\u001b[0;34m()\u001b[0m\n",
      "\u001b[0;32mpandas/_libs/hashtable_class_helper.pxi\u001b[0m in \u001b[0;36mpandas._libs.hashtable.PyObjectHashTable.get_item\u001b[0;34m()\u001b[0m\n",
      "\u001b[0;31mKeyError\u001b[0m: ('KNY--C1x', 'DHA-PPQ')"
     ]
    }
   ],
   "source": [
    "efficacydf = pd.read_csv('ef2020.csv')\n",
    "efficacydf = efficacydf.set_index('Shortname').iloc[:,1:]\n",
    "efficacydf['KNY--C1x', 'DHA-PPQ']"
   ]
  },
  {
   "cell_type": "code",
   "execution_count": null,
   "metadata": {},
   "outputs": [],
   "source": []
  }
 ],
 "metadata": {
  "colab": {
   "collapsed_sections": [
    "tvkLW64qhS0S",
    "1qW0f2PcvNWk",
    "5gQ7DT9G-0yh",
    "vE5zn3h6LVGM",
    "5Xrn9bowEsE4"
   ],
   "name": "BoniLabMDR.ipynb",
   "provenance": [],
   "toc_visible": true
  },
  "kernelspec": {
   "display_name": "Python 3",
   "language": "python",
   "name": "python3"
  },
  "language_info": {
   "codemirror_mode": {
    "name": "ipython",
    "version": 3
   },
   "file_extension": ".py",
   "mimetype": "text/x-python",
   "name": "python",
   "nbconvert_exporter": "python",
   "pygments_lexer": "ipython3",
   "version": "3.7.3"
  }
 },
 "nbformat": 4,
 "nbformat_minor": 1
}
