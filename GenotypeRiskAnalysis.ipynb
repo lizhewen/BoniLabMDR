{
  "nbformat": 4,
  "nbformat_minor": 0,
  "metadata": {
    "colab": {
      "name": "GenotypeRiskAnalysis.ipynb",
      "provenance": [],
      "collapsed_sections": [
        "Bs0nkVZOpigY"
      ],
      "toc_visible": true,
      "authorship_tag": "ABX9TyMo6Wevx5RNHFqXvpdvw1du"
    },
    "kernelspec": {
      "name": "python3",
      "display_name": "Python 3"
    }
  },
  "cells": [
    {
      "cell_type": "markdown",
      "metadata": {
        "id": "rclGjzLhmsSy",
        "colab_type": "text"
      },
      "source": [
        "# Genotype Risk Analysis Program"
      ]
    },
    {
      "cell_type": "markdown",
      "metadata": {
        "id": "Mh8vs-Damvhv",
        "colab_type": "text"
      },
      "source": [
        "This program plots the area under filtered blide slide prevalence curve, by specific genotype(s) to show their risk."
      ]
    },
    {
      "cell_type": "markdown",
      "metadata": {
        "id": "Bs0nkVZOpigY",
        "colab_type": "text"
      },
      "source": [
        "## Parser Function\n",
        "This is the parser function, taken directly from `BoniLabMDR` file."
      ]
    },
    {
      "cell_type": "code",
      "metadata": {
        "id": "oJFUbVrf3lCl",
        "colab_type": "code",
        "colab": {}
      },
      "source": [
        "import pandas as pd\n",
        "# Source: https://thispointer.com/python-how-to-insert-lines-at-the-top-of-a-file/\n",
        "'''\n",
        "Default columns that are selected are:\n",
        " #0 - Current Time\n",
        " #2 - Year\n",
        " #8 - Population\n",
        " #12 - Blood Slide Prevalence\n",
        " #22-149 - Parasite Count by Genotypes\n",
        "'''\n",
        "\n",
        "def parse(file_name, interested_col = [0,2,8,12] + list(range(22,150))):\n",
        "  headline = \"current_time\\tsclock_to_time\\tyear\\tmonth\\tday\\tseasonal_fac\\ttreated_p_5-\\ttreated_p_5+\\tpopulation\\tsep\\tEIR_loc_yr\\tsep\\tblood_slide_prev\\tbsp_2_10\\tbsp_0_5\\tsep\\tmonthly_new_inf\\tsep\\tmon_treatment\\tsep\\tmon_clinical_ep\\tsep\\tKNY--C1x\\tKNY--C1X\\tKNY--C2x\\tKNY--C2X\\tKNY--Y1x\\tKNY--Y1X\\tKNY--Y2x\\tKNY--Y2X\\tKYY--C1x\\tKYY--C1X\\tKYY--C2x\\tKYY--C2X\\tKYY--Y1x\\tKYY--Y1X\\tKYY--Y2x\\tKYY--Y2X\\tKNF--C1x\\tKNF--C1X\\tKNF--C2x\\tKNF--C2X\\tKNF--Y1x\\tKNF--Y1X\\tKNF--Y2x\\tKNF--Y2X\\tKYF--C1x\\tKYF--C1X\\tKYF--C2x\\tKYF--C2X\\tKYF--Y1x\\tKYF--Y1X\\tKYF--Y2x\\tKYF--Y2X\\tKNYNYC1x\\tKNYNYC1X\\tKNYNYC2x\\tKNYNYC2X\\tKNYNYY1x\\tKNYNYY1X\\tKNYNYY2x\\tKNYNYY2X\\tKYYYYC1x\\tKYYYYC1X\\tKYYYYC2x\\tKYYYYC2X\\tKYYYYY1x\\tKYYYYY1X\\tKYYYYY2x\\tKYYYYY2X\\tKNFNFC1x\\tKNFNFC1X\\tKNFNFC2x\\tKNFNFC2X\\tKNFNFY1x\\tKNFNFY1X\\tKNFNFY2x\\tKNFNFY2X\\tKYFYFC1x\\tKYFYFC1X\\tKYFYFC2x\\tKYFYFC2X\\tKYFYFY1x\\tKYFYFY1X\\tKYFYFY2x\\tKYFYFY2X\\tTNY--C1x\\tTNY--C1X\\tTNY--C2x\\tTNY--C2X\\tTNY--Y1x\\tTNY--Y1X\\tTNY--Y2x\\tTNY--Y2X\\tTYY--C1x\\tTYY--C1X\\tTYY--C2x\\tTYY--C2X\\tTYY--Y1x\\tTYY--Y1X\\tTYY--Y2x\\tTYY--Y2X\\tTNF--C1x\\tTNF--C1X\\tTNF--C2x\\tTNF--C2X\\tTNF--Y1x\\tTNF--Y1X\\tTNF--Y2x\\tTNF--Y2X\\tTYF--C1x\\tTYF--C1X\\tTYF--C2x\\tTYF--C2X\\tTYF--Y1x\\tTYF--Y1X\\tTYF--Y2x\\tTYF--Y2X\\tTNYNYC1x\\tTNYNYC1X\\tTNYNYC2x\\tTNYNYC2X\\tTNYNYY1x\\tTNYNYY1X\\tTNYNYY2x\\tTNYNYY2X\\tTYYYYC1x\\tTYYYYC1X\\tTYYYYC2x\\tTYYYYC2X\\tTYYYYY1x\\tTYYYYY1X\\tTYYYYY2x\\tTYYYYY2X\\tTNFNFC1x\\tTNFNFC1X\\tTNFNFC2x\\tTNFNFC2X\\tTNFNFY1x\\tTNFNFY1X\\tTNFNFY2x\\tTNFNFY2X\\tTYFYFC1x\\tTYFYFC1X\\tTYFYFC2x\\tTYFYFC2X\\tTYFYFY1x\\tTYFYFY1X\\tTYFYFY2x\\tTYFYFY2X\\tsep\\tKNY--C1x\\tKNY--C1X\\tKNY--C2x\\tKNY--C2X\\tKNY--Y1x\\tKNY--Y1X\\tKNY--Y2x\\tKNY--Y2X\\tKYY--C1x\\tKYY--C1X\\tKYY--C2x\\tKYY--C2X\\tKYY--Y1x\\tKYY--Y1X\\tKYY--Y2x\\tKYY--Y2X\\tKNF--C1x\\tKNF--C1X\\tKNF--C2x\\tKNF--C2X\\tKNF--Y1x\\tKNF--Y1X\\tKNF--Y2x\\tKNF--Y2X\\tKYF--C1x\\tKYF--C1X\\tKYF--C2x\\tKYF--C2X\\tKYF--Y1x\\tKYF--Y1X\\tKYF--Y2x\\tKYF--Y2X\\tKNYNYC1x\\tKNYNYC1X\\tKNYNYC2x\\tKNYNYC2X\\tKNYNYY1x\\tKNYNYY1X\\tKNYNYY2x\\tKNYNYY2X\\tKYYYYC1x\\tKYYYYC1X\\tKYYYYC2x\\tKYYYYC2X\\tKYYYYY1x\\tKYYYYY1X\\tKYYYYY2x\\tKYYYYY2X\\tKNFNFC1x\\tKNFNFC1X\\tKNFNFC2x\\tKNFNFC2X\\tKNFNFY1x\\tKNFNFY1X\\tKNFNFY2x\\tKNFNFY2X\\tKYFYFC1x\\tKYFYFC1X\\tKYFYFC2x\\tKYFYFC2X\\tKYFYFY1x\\tKYFYFY1X\\tKYFYFY2x\\tKYFYFY2X\\tTNY--C1x\\tTNY--C1X\\tTNY--C2x\\tTNY--C2X\\tTNY--Y1x\\tTNY--Y1X\\tTNY--Y2x\\tTNY--Y2X\\tTYY--C1x\\tTYY--C1X\\tTYY--C2x\\tTYY--C2X\\tTYY--Y1x\\tTYY--Y1X\\tTYY--Y2x\\tTYY--Y2X\\tTNF--C1x\\tTNF--C1X\\tTNF--C2x\\tTNF--C2X\\tTNF--Y1x\\tTNF--Y1X\\tTNF--Y2x\\tTNF--Y2X\\tTYF--C1x\\tTYF--C1X\\tTYF--C2x\\tTYF--C2X\\tTYF--Y1x\\tTYF--Y1X\\tTYF--Y2x\\tTYF--Y2X\\tTNYNYC1x\\tTNYNYC1X\\tTNYNYC2x\\tTNYNYC2X\\tTNYNYY1x\\tTNYNYY1X\\tTNYNYY2x\\tTNYNYY2X\\tTYYYYC1x\\tTYYYYC1X\\tTYYYYC2x\\tTYYYYC2X\\tTYYYYY1x\\tTYYYYY1X\\tTYYYYY2x\\tTYYYYY2X\\tTNFNFC1x\\tTNFNFC1X\\tTNFNFC2x\\tTNFNFC2X\\tTNFNFY1x\\tTNFNFY1X\\tTNFNFY2x\\tTNFNFY2X\\tTYFYFC1x\\tTYFYFC1X\\tTYFYFC2x\\tTYFYFC2X\\tTYFYFY1x\\tTYFYFY1X\\tTYFYFY2x\\tTYFYFY2X\\tsep\\t\\t\"\n",
        "  \n",
        "  # Start - Cited Codes\n",
        "  # define name of temporary dummy file\n",
        "  dummy_file = file_name[:-4] + '_parsed.txt'\n",
        "  # open original file in read mode and dummy file in write mode\n",
        "  with open(file_name, 'r') as read_obj, open(dummy_file, 'w') as write_obj:\n",
        "    # Write given line to the dummy file\n",
        "    write_obj.write(headline + '\\n')\n",
        "    # Read lines from original file one by one and append them to the dummy file\n",
        "    for line in read_obj:\n",
        "      write_obj.write(line)\n",
        "  # End - Cited Codes\n",
        "\n",
        "  df = pd.read_csv(dummy_file, sep='\\t')\n",
        "\n",
        "  # Check if file is single-location'd\n",
        "  if len(df.columns) == 282:\n",
        "    # Return tailored df\n",
        "    df = df.iloc[:,interested_col]\n",
        "    return df\n",
        "  \n",
        "  # Error if file not single-location'd\n",
        "  return None"
      ],
      "execution_count": 0,
      "outputs": []
    },
    {
      "cell_type": "markdown",
      "metadata": {
        "id": "Dhlp0tcyqMcm",
        "colab_type": "text"
      },
      "source": [
        "## Main Function - Start Here"
      ]
    },
    {
      "cell_type": "markdown",
      "metadata": {
        "id": "u5yTk-agTiaa",
        "colab_type": "text"
      },
      "source": [
        "This part defines some variables first, then plot a diagram of selected blood slide prevalence against time, with selected areas under the curve shaded."
      ]
    },
    {
      "cell_type": "code",
      "metadata": {
        "id": "cVKmh-7SqM1V",
        "colab_type": "code",
        "outputId": "bbf4c8f7-fde4-4e78-9ca0-80beac8c4af1",
        "colab": {
          "base_uri": "https://localhost:8080/",
          "height": 280
        }
      },
      "source": [
        "import pandas as pd\n",
        "import matplotlib.pyplot as plt\n",
        "import matplotlib.ticker as ticker\n",
        "\n",
        "# user defined variables\n",
        "filepath='2.txt'\n",
        "startyear=10 # exclude burn-in\n",
        "endyear = 27\n",
        "title=''\n",
        "xlabel='Year'\n",
        "ylabel='Blood Slide Prevalence'\n",
        "\n",
        "# parse the output file\n",
        "df = parse(file_name=filepath)\n",
        "\n",
        "# estimate bsp (people infected) by epecific genotype(s)\n",
        "df['bsp_portion'] = df['blood_slide_prev'] * df.filter(regex='TYY..Y2.', axis=1).sum(axis=1)\n",
        "\n",
        "fig = plt.figure()\n",
        "fig.patch.set_facecolor('white')\n",
        "plt.rcParams['figure.figsize'] = [15, 8]\n",
        "ax = fig.add_subplot(111)\n",
        "scale_x = 365\n",
        "ticks_x = ticker.FuncFormatter(lambda x, pos: '{0:g}'.format(x/scale_x))\n",
        "\n",
        "ax.plot(df['current_time'], df['bsp_portion'])\n",
        "ax.fill_between(df['current_time'], df['bsp_portion'], \n",
        "                where=((startyear*365<df['current_time']) & (df['current_time']<endyear*365)), \n",
        "                alpha=0.25)\n",
        "ax.xaxis.set_major_locator(ticker.MultipleLocator(5*scale_x)) # 5-year mark\n",
        "ax.xaxis.set_major_formatter(ticks_x)\n",
        "\n",
        "ax.set_xlabel(xlabel)\n",
        "ax.set_ylabel(ylabel)\n",
        "ax.set_title(title)\n",
        "ax.grid()"
      ],
      "execution_count": 0,
      "outputs": [
        {
          "output_type": "display_data",
          "data": {
            "image/png": "[encoded data removed]",
            "text/plain": [
              "<Figure size 432x288 with 1 Axes>"
            ]
          },
          "metadata": {
            "tags": []
          }
        }
      ]
    },
    {
      "cell_type": "markdown",
      "metadata": {
        "id": "Zvuo8MbvTycJ",
        "colab_type": "text"
      },
      "source": [
        "Then this part uses `np.trapz` to calculate quantity of the selected area."
      ]
    },
    {
      "cell_type": "code",
      "metadata": {
        "id": "UN7gYPIeRg_j",
        "colab_type": "code",
        "colab": {}
      },
      "source": [
        "import numpy as np\n",
        "\n",
        "df2 = df.copy()\n",
        "df2['people'] = df2['population'] * df['bsp_portion'] / 100\n",
        "# select target years and columns\n",
        "# people\n",
        "yaxis = df2.loc[(startyear*365<df2['current_time']) & (df2['current_time']<endyear*365)]['population'].values\n",
        "xaxis = df2.loc[(startyear*365<df2['current_time']) & (df2['current_time']<endyear*365)]['current_time'].values\n",
        "area = np.trapz(yaxis, x=xaxis)"
      ],
      "execution_count": 0,
      "outputs": []
    },
    {
      "cell_type": "code",
      "metadata": {
        "id": "WSXF5ny8S9vY",
        "colab_type": "code",
        "outputId": "a2149678-0d2a-4e49-b08d-d9c18731de4e",
        "colab": {
          "base_uri": "https://localhost:8080/",
          "height": 34
        }
      },
      "source": [
        "area"
      ],
      "execution_count": 0,
      "outputs": [
        {
          "output_type": "execute_result",
          "data": {
            "text/plain": [
              "514107110.0"
            ]
          },
          "metadata": {
            "tags": []
          },
          "execution_count": 5
        }
      ]
    }
  ]
}